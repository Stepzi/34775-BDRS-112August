{
 "cells": [
  {
   "cell_type": "code",
   "execution_count": 2,
   "id": "initial_id",
   "metadata": {
    "ExecuteTime": {
     "end_time": "2024-03-04T15:40:45.997758Z",
     "start_time": "2024-03-04T15:40:09.418573Z"
    },
    "collapsed": true
   },
   "outputs": [
    {
<<<<<<< HEAD
     "name": "stdout",
     "output_type": "stream",
     "text": [
      "0.7\n"
=======
     "ename": "ModuleNotFoundError",
     "evalue": "No module named 'cv2'",
     "output_type": "error",
     "traceback": [
      "\u001b[0;31m---------------------------------------------------------------------------\u001b[0m",
      "\u001b[0;31mModuleNotFoundError\u001b[0m                       Traceback (most recent call last)",
      "Cell \u001b[0;32mIn[2], line 2\u001b[0m\n\u001b[1;32m      1\u001b[0m \u001b[38;5;28;01mimport\u001b[39;00m \u001b[38;5;21;01mos\u001b[39;00m\n\u001b[0;32m----> 2\u001b[0m \u001b[38;5;28;01mimport\u001b[39;00m \u001b[38;5;21;01mcv2\u001b[39;00m\n\u001b[1;32m      3\u001b[0m \u001b[38;5;28;01mimport\u001b[39;00m \u001b[38;5;21;01mmatplotlib\u001b[39;00m\u001b[38;5;21;01m.\u001b[39;00m\u001b[38;5;21;01mpyplot\u001b[39;00m \u001b[38;5;28;01mas\u001b[39;00m \u001b[38;5;21;01mplt\u001b[39;00m\n\u001b[1;32m      4\u001b[0m \u001b[38;5;28;01mimport\u001b[39;00m \u001b[38;5;21;01mnumpy\u001b[39;00m \u001b[38;5;28;01mas\u001b[39;00m \u001b[38;5;21;01mnp\u001b[39;00m\n",
      "\u001b[0;31mModuleNotFoundError\u001b[0m: No module named 'cv2'"
>>>>>>> 4e1ab5809f8135a152e6efc7256b31e2a6177c9e
     ]
    }
   ],
   "source": [
    "import os\n",
    "import cv2\n",
    "import numpy as np\n",
    "# %matplotlib inline\n",
    "\n",
    "total_no_of_images = len(os.listdir('images'))\n",
    "c = 0\n",
    "for item, file in enumerate(os.listdir('images')):\n",
    "    src = cv2.imread('images/' + file) if 'raw' in file else None\n",
    "    # print(file)\n",
    "    # Check if image is loaded fine\n",
    "    if src is None:\n",
    "        # print('Error opening image!')\n",
    "        continue\n",
    "    blurred = cv2.GaussianBlur(src, (11, 11), 0)\n",
    "    hsv = cv2.cvtColor(blurred, cv2.COLOR_BGR2HSV)\n",
    "    mask = cv2.inRange(hsv, (10, 100, 100), (20, 255, 255))\n",
    "    mask = cv2.erode(mask, None, iterations=2)\n",
    "    mask = cv2.dilate(mask, None, iterations=2)\n",
    "    rows = mask.shape[0]\n",
    "    circles = cv2.HoughCircles(mask, cv2.HOUGH_GRADIENT,\n",
    "                               dp=1,\n",
    "                               minDist=rows / 8,\n",
    "                               param1=10,\n",
    "                               param2=10,\n",
    "                               minRadius=10,\n",
    "                               maxRadius=50)\n",
    "    if circles is not None:\n",
    "        circles = np.uint16(np.around(circles))\n",
    "        if len(circles):\n",
    "            c += 1\n",
    "        for i in circles[0, :]:\n",
    "            center = (i[0], i[1])\n",
    "            \n",
    "            # circle center\n",
    "            cv2.circle(src, center, 1, (0, 100, 100), 2)\n",
    "            cv2.imwrite(f\"hough_circle_results/{file}\", src)\n",
    "            # circle outline\n",
    "            radius = i[2]\n",
<<<<<<< HEAD
    "            cv2.circle(src, center, radius, (0, 255, 0), 2)\n",
    "    cv2.imshow('result', src)\n",
    "    cv2.waitKey(400)\n",
    "    cv2.destroyAllWindows()\n",
=======
    "            cv2.circle(src, center, radius, (0, 255, 0), 1)\n",
    "    # cv2.imshow('result', src)\n",
    "    cv2.imshow('result', src)\n",
    "    # k = cv2.waitKey(0) & 0xFF\n",
    "    # if k == 27:         # wait for ESC key to exit\n",
    "        # cv2.destroyAllWindows()\n",
>>>>>>> 4e1ab5809f8135a152e6efc7256b31e2a6177c9e
    "    # if item == 20:\n",
    "    #     break\n",
    "print(c/(total_no_of_images//2))"
   ]
<<<<<<< HEAD
=======
  },
  {
   "cell_type": "code",
   "execution_count": null,
   "id": "9d4a047e",
   "metadata": {},
   "outputs": [],
   "source": []
>>>>>>> 4e1ab5809f8135a152e6efc7256b31e2a6177c9e
  }
 ],
 "metadata": {
  "kernelspec": {
   "display_name": "Python 3",
   "language": "python",
   "name": "python3"
  },
  "language_info": {
   "codemirror_mode": {
    "name": "ipython",
    "version": 3
   },
   "file_extension": ".py",
   "mimetype": "text/x-python",
   "name": "python",
   "nbconvert_exporter": "python",
   "pygments_lexer": "ipython3",
<<<<<<< HEAD
   "version": "3.11.5"
=======
   "version": "3.10.12"
>>>>>>> 4e1ab5809f8135a152e6efc7256b31e2a6177c9e
  }
 },
 "nbformat": 4,
 "nbformat_minor": 5
}
