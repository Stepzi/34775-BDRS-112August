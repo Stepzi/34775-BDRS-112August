{
 "cells": [
  {
   "cell_type": "code",
   "execution_count": 3,
   "id": "initial_id",
   "metadata": {
    "collapsed": true,
    "ExecuteTime": {
     "end_time": "2024-03-04T15:40:45.997758Z",
     "start_time": "2024-03-04T15:40:09.418573Z"
    }
   },
   "outputs": [],
   "source": [
    "import os\n",
    "import cv2\n",
    "import matplotlib.pyplot as plt\n",
    "import numpy as np\n",
    "\n",
    "for item, file in enumerate(os.listdir('images')):\n",
    "    src = cv2.imread('images/' + file) if 'raw' in file else None\n",
    "    # print(file)\n",
    "    # Check if image is loaded fine\n",
    "    if src is None:\n",
    "        continue\n",
    "        print('Error opening image!')\n",
    "    blurred = cv2.GaussianBlur(src, (11, 11), 0)\n",
    "    hsv = cv2.cvtColor(blurred, cv2.COLOR_BGR2HSV)\n",
    "    mask = cv2.inRange(hsv, (10, 100, 100), (20, 255, 255))\n",
    "    rows = mask.shape[0]\n",
    "    circles = cv2.HoughCircles(mask, cv2.HOUGH_GRADIENT,\n",
    "                               dp=1,\n",
    "                               minDist=rows / 8,\n",
    "                               param1=10,\n",
    "                               param2=10,\n",
    "                               minRadius=10,\n",
    "                               maxRadius=50)\n",
    "    if circles is not None:\n",
    "        circles = np.uint16(np.around(circles))\n",
    "        for i in circles[0, :]:\n",
    "            center = (i[0], i[1])\n",
    "            # circle center\n",
    "            cv2.circle(src, center, 1, (0, 100, 100), 2)\n",
    "            cv2.imwrite(f\"contour_detection_results/{file}\", src)\n",
    "            # circle outline\n",
    "            radius = i[2]\n",
    "            cv2.circle(src, center, radius, (0, 255, 0), 1)\n",
    "    cv2.imshow('result', src)\n",
    "    cv2.waitKey(1000)\n",
    "    cv2.destroyAllWindows()\n",
    "    # if item == 20:\n",
    "    #     break\n"
   ]
  },
  {
   "cell_type": "code",
   "outputs": [],
   "source": [],
   "metadata": {
    "collapsed": false
   },
   "id": "1561361549f27330"
  }
 ],
 "metadata": {
  "kernelspec": {
   "display_name": "Python 3",
   "language": "python",
   "name": "python3"
  },
  "language_info": {
   "codemirror_mode": {
    "name": "ipython",
    "version": 2
   },
   "file_extension": ".py",
   "mimetype": "text/x-python",
   "name": "python",
   "nbconvert_exporter": "python",
   "pygments_lexer": "ipython2",
   "version": "2.7.6"
  }
 },
 "nbformat": 4,
 "nbformat_minor": 5
}
