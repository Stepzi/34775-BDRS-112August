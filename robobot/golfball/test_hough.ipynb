{
 "cells": [
  {
   "cell_type": "code",
   "execution_count": 2,
   "id": "initial_id",
   "metadata": {
    "ExecuteTime": {
     "end_time": "2024-03-04T15:40:45.997758Z",
     "start_time": "2024-03-04T15:40:09.418573Z"
    },
    "collapsed": true
   },
   "outputs": [
    {
     "name": "stdout",
     "output_type": "stream",
     "text": [
      "0.7\n"
     ]
    }
   ],
   "source": [
    "import os\n",
    "import cv2\n",
    "import numpy as np\n",
    "\n",
    "total_no_of_images = len(os.listdir('images'))\n",
    "c = 0\n",
    "for item, file in enumerate(os.listdir('images')):\n",
    "    src = cv2.imread('images/' + file) if 'raw' in file else None\n",
    "    # print(file)\n",
    "    # Check if image is loaded fine\n",
    "    if src is None:\n",
    "        # print('Error opening image!')\n",
    "        continue\n",
    "    blurred = cv2.GaussianBlur(src, (11, 11), 0)\n",
    "    hsv = cv2.cvtColor(blurred, cv2.COLOR_BGR2HSV)\n",
    "    mask = cv2.inRange(hsv, (10, 100, 100), (20, 255, 255))\n",
    "    mask = cv2.erode(mask, None, iterations=2)\n",
    "    mask = cv2.dilate(mask, None, iterations=2)\n",
    "    rows = mask.shape[0]\n",
    "    circles = cv2.HoughCircles(mask, cv2.HOUGH_GRADIENT,\n",
    "                               dp=1,\n",
    "                               minDist=rows / 8,\n",
    "                               param1=10,\n",
    "                               param2=10,\n",
    "                               minRadius=10,\n",
    "                               maxRadius=50)\n",
    "    if circles is not None:\n",
    "        circles = np.uint16(np.around(circles))\n",
    "        if len(circles):\n",
    "            c += 1\n",
    "        for i in circles[0, :]:\n",
    "            center = (i[0], i[1])\n",
    "            \n",
    "            # circle center\n",
    "            cv2.circle(src, center, 1, (0, 100, 100), 2)\n",
    "            cv2.imwrite(f\"hough_circle_results/{file}\", src)\n",
    "            # circle outline\n",
    "            radius = i[2]\n",
    "            cv2.circle(src, center, radius, (0, 255, 0), 2)\n",
    "    cv2.imshow('result', src)\n",
    "    cv2.waitKey(400)\n",
    "    cv2.destroyAllWindows()\n",
    "    # if item == 20:\n",
    "    #     break\n",
    "print(c/(total_no_of_images//2))"
   ]
  }
 ],
 "metadata": {
  "kernelspec": {
   "display_name": "Python 3",
   "language": "python",
   "name": "python3"
  },
  "language_info": {
   "codemirror_mode": {
    "name": "ipython",
    "version": 3
   },
   "file_extension": ".py",
   "mimetype": "text/x-python",
   "name": "python",
   "nbconvert_exporter": "python",
   "pygments_lexer": "ipython3",
   "version": "3.11.5"
  }
 },
 "nbformat": 4,
 "nbformat_minor": 5
}
