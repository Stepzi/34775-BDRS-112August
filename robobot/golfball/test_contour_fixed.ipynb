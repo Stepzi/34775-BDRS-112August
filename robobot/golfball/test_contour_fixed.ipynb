{
 "cells": [
  {
   "cell_type": "code",
   "execution_count": 5,
   "id": "5164eaa3-28a9-4247-82e2-b299f8c413fd",
   "metadata": {},
   "outputs": [],
   "source": [
    "import cv2\n",
    "import os\n",
    "\n",
    "total_no_of_images = len(os.listdir('images'))\n",
    "count = 0\n",
    "for item, file in enumerate(os.listdir('images')):\n",
    "    src = cv2.imread(cv2.samples.findFile('images/'+file)) if 'raw' in file else None\n",
    "    if src is None:\n",
    "        continue\n",
    "    blurred = cv2.GaussianBlur(src, (11, 11), 0)\n",
    "    width, height = src.shape[:2]\n",
    "    hsv = cv2.cvtColor(blurred, cv2.COLOR_BGR2HSV)\n",
    "    mask = cv2.inRange(hsv, (10, 100, 100), (20, 255, 255))\n",
    "    mask = cv2.erode(mask, None, iterations=2)\n",
    "    mask = cv2.dilate(mask, None, iterations=2)\n",
    "    cnts = cv2.findContours(mask.copy(), cv2.RETR_EXTERNAL,\n",
    "                            cv2.CHAIN_APPROX_SIMPLE)\n",
    "    new_cnts = cnts[0] if len(cnts) == 2 else cnts[1]\n",
    "    if len(new_cnts) > 0:\n",
    "        c = max(new_cnts, key=cv2.contourArea)\n",
    "        # for c in new_cnts:\n",
    "        ((x, y), radius) = cv2.minEnclosingCircle(c)\n",
    "        M = cv2.moments(c)\n",
    "        center = int(M[\"m10\"] / M[\"m00\"]), int(M[\"m01\"] / M[\"m00\"]),\n",
    "        # To see the centroid clearly\\n\",\n",
    "        if radius > 10 and radius < 65:\n",
    "            cv2.circle(src, center, int(radius), (0, 255, 0), 2)\n",
    "            cv2.circle(src, center, 1, (0, 0, 255), 2)\n",
    "            cv2.imwrite(f\"contour_detection_results/{file}\", src)\n",
    "    cv2.imshow('result', src)\n",
    "    cv2.waitKey(1000)\n",
    "    cv2.destroyAllWindows()\n",
    "    if item == 10:\n",
    "        break\n",
    "# print(count/(total_no_of_images//2))"
   ]
  }
 ],
 "metadata": {
  "kernelspec": {
   "display_name": "Python 3 (ipykernel)",
   "language": "python",
   "name": "python3"
  },
  "language_info": {
   "codemirror_mode": {
    "name": "ipython",
    "version": 3
   },
   "file_extension": ".py",
   "mimetype": "text/x-python",
   "name": "python",
   "nbconvert_exporter": "python",
   "pygments_lexer": "ipython3",
   "version": "3.11.5"
  },
  "widgets": {
   "application/vnd.jupyter.widget-state+json": {
    "state": {},
    "version_major": 2,
    "version_minor": 0
   }
  }
 },
 "nbformat": 4,
 "nbformat_minor": 5
}
