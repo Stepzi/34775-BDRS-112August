{
 "cells": [
  {
   "cell_type": "code",
   "execution_count": 1,
   "id": "fb4f9461d8fb8d41",
   "metadata": {
    "ExecuteTime": {
     "end_time": "2024-03-04T15:24:43.951322Z",
     "start_time": "2024-03-04T15:24:08.205732Z"
    },
    "collapsed": false
   },
   "outputs": [
    {
     "ename": "",
     "evalue": "",
     "output_type": "error",
     "traceback": [
      "\u001b[1;31mThe Kernel crashed while executing code in the current cell or a previous cell. \n",
      "\u001b[1;31mPlease review the code in the cell(s) to identify a possible cause of the failure. \n",
      "\u001b[1;31mClick <a href='https://aka.ms/vscodeJupyterKernelCrash'>here</a> for more info. \n",
      "\u001b[1;31mView Jupyter <a href='command:jupyter.viewOutput'>log</a> for further details."
     ]
    }
   ],
   "source": [
    "import cv2\n",
    "import os\n",
    "import time\n",
    "import matplotlib.pyplot as plt\n",
    "\n",
    "for item, file in enumerate(os.listdir('images')):\n",
    "    src = cv2.imread(cv2.samples.findFile('images/'+file)) if 'raw' in file else None\n",
    "    if src is None: \n",
    "        continue\n",
    "    blurred = cv2.GaussianBlur(src, (11, 11), 0)\n",
    "    width, height = src.shape[:2]\n",
    "    hsv = cv2.cvtColor(blurred, cv2.COLOR_BGR2HSV)\n",
    "    mask = cv2.inRange(hsv, (10, 100, 100), (20, 255, 255))\n",
    "    mask = cv2.erode(mask, None, iterations=2)\n",
    "    mask = cv2.dilate(mask, None, iterations=2)\n",
    "    cnts = cv2.findContours(mask.copy(), cv2.RETR_EXTERNAL,\n",
    "                            cv2.CHAIN_APPROX_SIMPLE)\n",
    "    # cnts = imutils.grab_contours(cnts)\n",
    "    cnts = cnts[0] if len(cnts) == 2 else cnts[1]\n",
    "    center = None\n",
    "    if len(cnts) > 0:\n",
    "        c = max(cnts, key=cv2.contourArea)\n",
    "        ((x, y), radius) = cv2.minEnclosingCircle(c)\n",
    "        M = cv2.moments(c)\n",
    "        center = (int(M[\"m10\"] / M[\"m00\"]), int(M[\"m01\"] / M[\"m00\"]))\n",
    "        # To see the centroid clearly\n",
    "        if radius > 10:\n",
    "            cv2.circle(src, (int(x), int(y)), int(radius), (0, 255, 255), 3)\n",
    "            cv2.imwrite(f\"contour_detection_results/{file}\", src)\n",
    "            cv2.circle(src, center, 5, (0, 0, 255), -1)\n",
    "    cv2.imshow('result', src)\n",
    "    cv2.waitKey(1000)\n",
    "    cv2.destroyAllWindows()\n",
    "    \n",
    "    # if item == 20:\n",
    "    #     break"
   ]
  },
  {
   "cell_type": "code",
   "execution_count": null,
   "id": "9f0d398cee89331",
   "metadata": {
    "collapsed": false
   },
   "outputs": [],
   "source": []
  }
 ],
 "metadata": {
  "kernelspec": {
   "display_name": "Python 3",
   "language": "python",
   "name": "python3"
  },
  "language_info": {
   "codemirror_mode": {
    "name": "ipython",
    "version": 3
   },
   "file_extension": ".py",
   "mimetype": "text/x-python",
   "name": "python",
   "nbconvert_exporter": "python",
   "pygments_lexer": "ipython3",
   "version": "3.10.13"
  }
 },
 "nbformat": 4,
 "nbformat_minor": 5
}
